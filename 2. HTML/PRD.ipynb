{
 "cells": [
  {
   "cell_type": "markdown",
   "id": "ba23750b",
   "metadata": {},
   "source": [
    "# PRD of Juice Shop\n",
    "\n",
    "## Objective\n",
    "\n",
    "Build an HTML website for Juice Shop.\n",
    "\n",
    "## Scope\n",
    "\n",
    "Build basic skeleton with card and contact details of juice shop\n",
    "\n",
    "We will not add any payment system in this version.\n",
    "\n",
    "## Features & Requirements\n",
    "\n",
    "### P1 (Must Required Features)\n",
    "- Pictures of Juice\n",
    "- Price of Juice\n",
    "\n",
    "### P2 (Good to have Features)\n",
    "- Pay with Bitcoin\n",
    "\n",
    "## User Stories or Use Cases\n",
    "\n",
    "User Story :\n",
    "\n",
    "- I want to order a juice while sitting at home.\n",
    "- I want to see the rate list of all the juices.\n",
    "\n",
    "## Technical Requirements\n",
    "\n",
    "- HTML\n",
    "\n",
    "## Design Requirements\n",
    "\n",
    "## Timeline\n",
    "\n",
    "- 3 Month"
   ]
  }
 ],
 "metadata": {
  "language_info": {
   "name": "python"
  }
 },
 "nbformat": 4,
 "nbformat_minor": 5
}
